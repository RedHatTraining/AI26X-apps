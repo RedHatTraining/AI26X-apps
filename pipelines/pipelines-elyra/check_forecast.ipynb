{
 "cells": [
  {
   "cell_type": "code",
   "execution_count": null,
   "metadata": {},
   "outputs": [],
   "source": [
    "import boto3\n",
    "import pandas as pd\n",
    "import matplotlib.pyplot as plt\n",
    "import os"
   ]
  },
  {
   "cell_type": "code",
   "execution_count": null,
   "metadata": {},
   "outputs": [],
   "source": [
    "s3_endpoint_url = os.environ.get(\"AWS_S3_ENDPOINT\")\n",
    "s3_endpoint_url = s3_endpoint_url if s3_endpoint_url.startswith('http') else 'http://' + s3_endpoint_url\n",
    "s3_access_key = os.environ.get(\"AWS_ACCESS_KEY_ID\")\n",
    "s3_secret_key = os.environ.get(\"AWS_SECRET_ACCESS_KEY\")\n",
    "s3_bucket_name = os.environ.get(\"AWS_S3_BUCKET\")\n",
    "\n",
    "pipeline_run_folder = \"EDIT THIS\"\n",
    "\n",
    "s3_client = boto3.client(\n",
    "    \"s3\",\n",
    "    endpoint_url=s3_endpoint_url,\n",
    "    aws_access_key_id=s3_access_key,\n",
    "    aws_secret_access_key=s3_secret_key,\n",
    ")\n",
    "\n",
    "s3_client.download_file(s3_bucket_name, f\"{pipeline_run_folder}/clean-data.csv\", \"./clean-data.csv\")\n",
    "s3_client.download_file(\n",
    "    s3_bucket_name, f\"{pipeline_run_folder}/forecast-data.csv\", \"./forecast-data.csv\"\n",
    ")"
   ]
  },
  {
   "cell_type": "code",
   "execution_count": null,
   "metadata": {},
   "outputs": [],
   "source": [
    "clean_data = pd.read_csv(\"./clean-data.csv\")\n",
    "forecast_data = pd.read_csv(\"./forecast-data.csv\")\n",
    "forecast_data.columns = [\"Date\",\"n_tickets\"]\n",
    "\n",
    "clean_data[\"Date\"] = pd.to_datetime(clean_data[\"Date\"])\n",
    "forecast_data[\"Date\"] = pd.to_datetime(forecast_data[\"Date\"])\n"
   ]
  },
  {
   "cell_type": "code",
   "execution_count": null,
   "metadata": {},
   "outputs": [],
   "source": [
    "# Plot the data\n",
    "plt.figure(figsize=(12, 6))\n",
    "\n",
    "plt.plot(clean_data[\"Date\"], clean_data[clean_data.columns[1]], label=\"data\")\n",
    "plt.plot(\n",
    "        forecast_data[\"Date\"], forecast_data[forecast_data.columns[1]], label=\"forecast\"\n",
    "    )\n",
    "\n",
    "plt.xlabel(\"Date\")\n",
    "plt.ylabel(\"# of tickets\")\n",
    "plt.legend()\n",
    "plt.grid(True)\n",
    "plt.show()\n"
   ]
  }
 ],
 "metadata": {
  "language_info": {
   "name": "python"
  }
 },
 "nbformat": 4,
 "nbformat_minor": 2
}
