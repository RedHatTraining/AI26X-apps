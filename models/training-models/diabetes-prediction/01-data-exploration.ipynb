{
 "cells": [
  {
   "cell_type": "markdown",
   "metadata": {},
   "source": [
    "# Analyzing Medical Data\n",
    "\n",
    "In this exercise, you train an ML model to determine whether a patient might have diabetes.\n",
    "\n",
    "The exercise uses the _Pima Indian Diabetes_ data set from the National Institute of Diabetes and Digestive and Kidney Diseases. \n",
    "The data set consists of approximately 800 cases of medical data for female patients with and without diabetes.\n",
    "The data includes features such as blood pressure, heart rate, and age.\n",
    "The data set is available as a CSV file in this repository.\n",
    "\n",
    "Explore the data to recognize whether you can use it to train a model that recognizes patients who have diabetes.\n",
    "\n",
    "> _NOTE:  In the interest of time, this notebook performs a simple and superficial analysis of the data.\n",
    "A more detailed study would require more time._\n",
    "\n",
    "### 1. Import the required libraries and load the data."
   ]
  },
  {
   "cell_type": "code",
   "execution_count": null,
   "metadata": {
    "tags": []
   },
   "outputs": [],
   "source": [
    "import pandas as pd\n",
    "import matplotlib.pyplot as plt"
   ]
  },
  {
   "cell_type": "code",
   "execution_count": null,
   "metadata": {
    "tags": []
   },
   "outputs": [],
   "source": [
    "# Load the data set into a Pandas data frame called \"data\"\n",
    "data = pd.read_csv(\"data/diabetes.csv\")\n",
    "\n",
    "# Obtain the length (rows) and width (columns) of the data set\n",
    "data.shape"
   ]
  },
  {
   "cell_type": "markdown",
   "metadata": {},
   "source": [
    "The data contains 768 rows and 9 columns.  \n",
    "\n",
    "Use the `head` method  of the Pandas dataframe to preview the first five rows."
   ]
  },
  {
   "cell_type": "code",
   "execution_count": null,
   "metadata": {
    "tags": []
   },
   "outputs": [],
   "source": [
    "data.head()"
   ]
  },
  {
   "cell_type": "markdown",
   "metadata": {},
   "source": [
    "### 2. Inspect basic information.\n",
    "\n",
    "Use standard data analysis methods to start exploring the data.\n",
    "\n",
    "Inspect the column names and associated data types.\n",
    "The `info` method of a Pandas data frame displays the column names and data types in a data frame."
   ]
  },
  {
   "cell_type": "code",
   "execution_count": null,
   "metadata": {
    "tags": []
   },
   "outputs": [],
   "source": [
    "data.info()"
   ]
  },
  {
   "cell_type": "markdown",
   "metadata": {},
   "source": [
    "Note the different value types:\n",
    "\n",
    "* `Pregnancies`, `Glucose`, `BloodPressure`, `SkinThickness`, `Insulin`, `Age`, and `Outcome` contain integer values.\n",
    "* Body mass index(`BMI`) and `DiabetesPedigreeFunction` contain float values.\n",
    "\n",
    "Use the `describe` method to see basic statistical information for each column, such as percentiles, mean, and standard deviation."
   ]
  },
  {
   "cell_type": "code",
   "execution_count": null,
   "metadata": {
    "tags": []
   },
   "outputs": [],
   "source": [
    "data.describe()"
   ]
  },
  {
   "cell_type": "markdown",
   "metadata": {},
   "source": [
    "\n",
    "The dataset consists of several medical variables, which are the input features, and one target variable: `Outcome`.\n",
    "\n",
    "* `Pregnancies`:     Number of times pregnant\n",
    "* `Glucose`:         Plasma glucose concentration in an oral glucose tolerance test\n",
    "* `Blood Pressure`:  Diastolic blood pressure (mm Hg)\n",
    "* `SkinThickness`:   Triceps skin fold thickness (mm)\n",
    "* `Insulin`:         2-Hour serum insulin (mu U/ml)\n",
    "* `BMI`:             Body mass index (weight in kg/(height in m)^2)\n",
    "* `DiabetesPedigreeFunction` Probability of diabetes based on family history\n",
    "* `Age`:             Age (years)\n",
    "* `Outcome`:         Target variable. Whether the patient has diabetes (`1`) or not (`0`)"
   ]
  },
  {
   "cell_type": "markdown",
   "metadata": {},
   "source": [
    "Count the number are diabetes cases."
   ]
  },
  {
   "cell_type": "code",
   "execution_count": null,
   "metadata": {
    "tags": []
   },
   "outputs": [],
   "source": [
    "data.Outcome.value_counts()"
   ]
  },
  {
   "cell_type": "markdown",
   "metadata": {},
   "source": [
    "268 of 768 cases are diabetes cases."
   ]
  },
  {
   "cell_type": "markdown",
   "metadata": {},
   "source": [
    "### 3. Identify missing data\n",
    "\n",
    "Plot the data to visualize the data distribution.\n",
    "Use the `hist` method to plot a histogram.\n",
    "You can use histograms to see how the data is distributed for each variable and detect outliers."
   ]
  },
  {
   "cell_type": "code",
   "execution_count": null,
   "metadata": {
    "tags": []
   },
   "outputs": [],
   "source": [
    "# Plot histograms of the columns on multiple subplots\n",
    "plt.close('all')\n",
    "data.hist(bins=20, figsize=(10, 8))"
   ]
  },
  {
   "cell_type": "markdown",
   "metadata": {},
   "source": [
    "The dataset is evenly distributed except for some outliers in `BMI`, `Blood Pressure`, and `DiabetesPedigreeFunction`.\n",
    "\n",
    "Additionally, note the high number of `0` values in the `SkinThickness` and `Insulin` features.\n",
    "In this particular scenario, the `0` values might indicate missing data for those features.\n"
   ]
  },
  {
   "cell_type": "markdown",
   "metadata": {},
   "source": [
    "Reuse the `head` method to see the `0` values in the data. Print the first 20 rows."
   ]
  },
  {
   "cell_type": "code",
   "execution_count": null,
   "metadata": {
    "tags": []
   },
   "outputs": [],
   "source": [
    "data.head(20)"
   ]
  },
  {
   "cell_type": "markdown",
   "metadata": {},
   "source": [
    "Print the last 20 rows of the dataset and determine if those rows also contain `0` values."
   ]
  },
  {
   "cell_type": "code",
   "execution_count": null,
   "metadata": {
    "tags": []
   },
   "outputs": [],
   "source": [
    "data.tail(20)"
   ]
  },
  {
   "cell_type": "markdown",
   "metadata": {},
   "source": [
    "Determine the number of `0` values in the dataset."
   ]
  },
  {
   "cell_type": "code",
   "execution_count": null,
   "metadata": {
    "tags": []
   },
   "outputs": [],
   "source": [
    "# Select all the rows and only the feature columns\n",
    "feature_data = data.iloc[:, :-1]\n",
    "\n",
    "# Count the total number of rows\n",
    "num_cases = data.shape[0]\n",
    "\n",
    "# Number & percent of '0's for each feature\n",
    "numZero = (feature_data[:] == 0).sum()\n",
    "perZero = ((feature_data[:] == 0).sum())/num_cases*100\n",
    "\n",
    "print(f\"\\nRows, Feature columns: {feature_data.shape}\")\n",
    "print(\"\\n== Number of 0's:\")\n",
    "print(numZero)\n",
    "print(\"\\n == Percentage of 0's:\")\n",
    "print(perZero)"
   ]
  },
  {
   "cell_type": "markdown",
   "metadata": {},
   "source": [
    "The data set contains 227 zero values for `SkinThickness` and 374 zero values for `Insulin`.\n",
    "Aproximately half of the cases have missing insulin values.\n",
    "\n",
    "To build and train a reliable ML model, you should address these missing values.\n",
    "However, for the sake of simplicity, this exercise keeps the outliers in the dataset.\n",
    "\n",
    "Verify whether the missing data values are correlated to each other."
   ]
  },
  {
   "cell_type": "markdown",
   "metadata": {},
   "source": [
    "### 4. Look for correlations\n",
    "\n",
    "Compute the _standard correlation coefficient_ between every pair of attributes by using the `corr` method.\n",
    "Note that, for bigger data sets, especially those with many features, computing the correlations might take a very long time."
   ]
  },
  {
   "cell_type": "code",
   "execution_count": null,
   "metadata": {
    "tags": []
   },
   "outputs": [],
   "source": [
    "corrM = data.corr()\n",
    "corrM.style.background_gradient().format(precision=3)"
   ]
  },
  {
   "cell_type": "markdown",
   "metadata": {},
   "source": [
    "The data does not show strong correlations, which means that there is a notable degree of independency across the features.\n",
    "\n",
    "The `Pregnancies` and `Age` features have a moderate correlation.\n",
    "\n",
    "The `Insulin` and `SkinThickness` columns, which include many missing values, have a correlation value of 0.437, which might be caused by the high number `0` values in these two features."
   ]
  },
  {
   "cell_type": "markdown",
   "metadata": {
    "tags": []
   },
   "source": [
    "## References\n",
    "\n",
    "* Pima Indians Diabetes Database: Smith, J.W., Everhart, J.E., Dickson, W.C., Knowler, W.C., & Johannes, R.S. (1988). Using the ADAP learning algorithm to forecast the onset of diabetes mellitus. In Proceedings of the Symposium on Computer Applications and Medical Care (pp. 261--265). IEEE Computer Society Press. Available at: https://www.kaggle.com/datasets/uciml/pima-indians-diabetes-database "
   ]
  }
 ],
 "metadata": {
  "kernelspec": {
   "display_name": "Python 3.9",
   "language": "python",
   "name": "python3"
  },
  "language_info": {
   "codemirror_mode": {
    "name": "ipython",
    "version": 3
   },
   "file_extension": ".py",
   "mimetype": "text/x-python",
   "name": "python",
   "nbconvert_exporter": "python",
   "pygments_lexer": "ipython3",
   "version": "3.9.16"
  }
 },
 "nbformat": 4,
 "nbformat_minor": 4
}
