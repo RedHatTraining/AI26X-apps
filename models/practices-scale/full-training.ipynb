{
 "cells": [
  {
   "cell_type": "markdown",
   "id": "6a30bdbb",
   "metadata": {},
   "source": [
    "1. Import required libraries and components."
   ]
  },
  {
   "cell_type": "code",
   "execution_count": null,
   "id": "26dce13d",
   "metadata": {
    "tags": []
   },
   "outputs": [],
   "source": [
    "import pandas as pd\n",
    "\n",
    "from sklearn.naive_bayes import GaussianNB\n",
    "from sklearn.model_selection import train_test_split\n",
    "from sklearn.metrics import classification_report\n",
    "\n",
    "# Utility function to generate a synthetic data set\n",
    "from data.generation import generate_synthetic_dataset"
   ]
  },
  {
   "cell_type": "markdown",
   "id": "4fcbee48",
   "metadata": {},
   "source": [
    "2. Establish variables and parameters that are used throughout this notebook."
   ]
  },
  {
   "cell_type": "code",
   "execution_count": null,
   "id": "1a2752c1",
   "metadata": {
    "tags": []
   },
   "outputs": [],
   "source": [
    "file_path = 'dataset.csv'\n",
    "num_rows = 10_000\n",
    "num_columns = 6\n",
    "num_relevant_columns = 4\n",
    "\n",
    "test_size = 0.2  # percent data to reserve for test\n",
    "random_state = 42  # Random seed for reproducibility"
   ]
  },
  {
   "cell_type": "markdown",
   "id": "8e28c764",
   "metadata": {},
   "source": [
    "3. Generate a CSV file that contains synthetic, randomized data for a classification problem.\n",
    "The generated data set fits in memory."
   ]
  },
  {
   "cell_type": "code",
   "execution_count": null,
   "id": "30f667db-5d2b-4166-b691-e09aa3f57c00",
   "metadata": {
    "tags": []
   },
   "outputs": [],
   "source": [
    "generate_synthetic_dataset(\n",
    "    num_features=num_columns,\n",
    "    num_samples=num_rows,\n",
    "    file_path=file_path,\n",
    "    num_informative_features=num_relevant_columns,\n",
    "    num_classes=2\n",
    ")"
   ]
  },
  {
   "cell_type": "markdown",
   "id": "8acfc9b4",
   "metadata": {},
   "source": [
    "4. Prepare the data into test and train subsets of features and target variables."
   ]
  },
  {
   "cell_type": "code",
   "execution_count": null,
   "id": "2cf9ad87-199a-43b5-898d-499d089a5c59",
   "metadata": {
    "tags": []
   },
   "outputs": [],
   "source": [
    "data = pd.read_csv(\"dataset.csv\")\n",
    "X = data.drop('target', axis=1)\n",
    "y = data['target']\n",
    "\n",
    "# Generate train and test splits\n",
    "X_train, X_test, y_train, y_test = train_test_split(\n",
    "    X,\n",
    "    y,\n",
    "    test_size=0.2,\n",
    "    random_state=0\n",
    ")"
   ]
  },
  {
   "cell_type": "markdown",
   "id": "6a59ea84",
   "metadata": {},
   "source": [
    "5. Train a model by using the typical, non-streaming technique.\n",
    "The code trains the model by loading the full data set in memory."
   ]
  },
  {
   "cell_type": "code",
   "execution_count": null,
   "id": "7aa466c4-122c-48e3-8f2f-b79c49430e9c",
   "metadata": {
    "tags": []
   },
   "outputs": [],
   "source": [
    "model = GaussianNB()\n",
    "model.fit(X_train, y_train)\n",
    "y_predicted = model.predict(X_test)\n",
    "\n",
    "print(\"Classification report:\")\n",
    "print(classification_report(y_test, y_predicted))"
   ]
  },
  {
   "cell_type": "markdown",
   "id": "52e64fe2",
   "metadata": {},
   "source": [
    "6. Define a function to add more complex (columns) features to the data set.\n",
    "Generating features by transforming and combining the existing ones is a common technique to improve a model's accuracy.\n",
    "\n",
    "> NOTE: The following function implements only a memory intensive loop to illustrate the objective of the exercise."
   ]
  },
  {
   "cell_type": "code",
   "execution_count": null,
   "id": "b12a69f7-6ba2-4b7a-8883-bc65af51c96c",
   "metadata": {
    "tags": []
   },
   "outputs": [],
   "source": [
    "def preprocess(df):\n",
    "    variations = [df]\n",
    "    for i in range(10000):\n",
    "        variations.append(df.copy() * i)\n",
    "\n",
    "    df_extended = pd.concat(variations, axis=1)\n",
    "\n",
    "    return df_extended"
   ]
  },
  {
   "cell_type": "markdown",
   "id": "9960b8f7-e505-474f-8172-a034ab43b104",
   "metadata": {
    "tags": []
   },
   "source": [
    "7. Attempt to generate features and train the model with the extended data set by using the typical, non-streaming technique.\n",
    "Doing so fails, the kernel crashes because the extended data does not fit in memory all at once."
   ]
  },
  {
   "cell_type": "code",
   "execution_count": null,
   "id": "34404409-874e-4009-a22c-240fb131c300",
   "metadata": {
    "tags": []
   },
   "outputs": [],
   "source": [
    "X_preprocessed = preprocess(X_train)\n",
    "\n",
    "model = GaussianNB()\n",
    "model.fit(X_preprocessed, y_train)"
   ]
  },
  {
   "cell_type": "markdown",
   "id": "cd9c8860",
   "metadata": {},
   "source": [
    "7. Open the `incremental-training.ipynb` notebook and follow the instructions to scale the training."
   ]
  }
 ],
 "metadata": {
  "kernelspec": {
   "display_name": "Python 3.9",
   "language": "python",
   "name": "python3"
  },
  "language_info": {
   "codemirror_mode": {
    "name": "ipython",
    "version": 3
   },
   "file_extension": ".py",
   "mimetype": "text/x-python",
   "name": "python",
   "nbconvert_exporter": "python",
   "pygments_lexer": "ipython3",
   "version": "3.9.16"
  }
 },
 "nbformat": 4,
 "nbformat_minor": 5
}
