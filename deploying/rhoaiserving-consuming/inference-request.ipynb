{
 "cells": [
  {
   "cell_type": "markdown",
   "id": "f8b2f037-fbb9-4c42-8261-18690bf18a4d",
   "metadata": {},
   "source": [
    "1. Set common variables for the inference endpoint of the model and an access token.\n",
    "Note that these are the same values retrieved from the RHOAI dashboard in earlier steps of the exercise."
   ]
  },
  {
   "cell_type": "code",
   "execution_count": null,
   "id": "45d3006e-e2c9-4d5b-bf73-cc5194508308",
   "metadata": {
    "tags": []
   },
   "outputs": [],
   "source": [
    "MODEL_PATH = \"https://iris-rhoaiserving-consuming.apps.ocp4.example.com/v2/models/iris/infer\"\n",
    "TOKEN = \"REPLACEME\""
   ]
  },
  {
   "cell_type": "markdown",
   "id": "3bbaa928-160e-4414-961c-a65b0e8b660c",
   "metadata": {},
   "source": [
    "2. Import the `requests` and `json` libraries.\n",
    "The `json` library helps parse the JSON request from the server."
   ]
  },
  {
   "cell_type": "code",
   "execution_count": null,
   "id": "eb1e972d-d055-498b-92b3-7b4ddc556472",
   "metadata": {
    "tags": []
   },
   "outputs": [],
   "source": [
    "import requests\n",
    "import json"
   ]
  },
  {
   "cell_type": "markdown",
   "id": "2b189464-a4b0-4e27-aad5-471557b0a533",
   "metadata": {},
   "source": [
    "3. Set values to be used for the request itself.\n",
    "Note that the request does not yet send."
   ]
  },
  {
   "cell_type": "code",
   "execution_count": null,
   "id": "d88b409f-193b-4365-b511-6a2d9f513837",
   "metadata": {
    "tags": []
   },
   "outputs": [],
   "source": [
    "# set values that we'll use for the request\n",
    "headers = {\n",
    "    \"Authorization\": f\"Bearer {TOKEN}\"\n",
    "}\n",
    "payload = {\n",
    "    \"inputs\": [\n",
    "        {\n",
    "            \"name\": \"X\",\n",
    "            \"shape\": [1, 4],\n",
    "            \"datatype\": \"FP32\",\n",
    "            \"data\": [3, 4, 3, 2]\n",
    "        }\n",
    "    ]\n",
    "}"
   ]
  },
  {
   "cell_type": "markdown",
   "id": "50f76daf-c2f0-41f4-99b8-c4a0844e9e41",
   "metadata": {},
   "source": [
    "4. Execute a request that uses the previous values and print the results.\n",
    "In the case of an error response, print the error instead.\n",
    "\n",
    "> IMPORTANT: In this case, you must disable SSL verification with the `verify=False` option.\n",
    "Normally, you should not disable security checks."
   ]
  },
  {
   "cell_type": "code",
   "execution_count": null,
   "id": "84ce517f-006b-4f2c-aa69-6278ccd1d648",
   "metadata": {
    "tags": []
   },
   "outputs": [],
   "source": [
    "# make the request\n",
    "response = requests.post(MODEL_PATH, json=payload, headers=headers, verify=False)\n",
    "\n",
    "# either pretty-print results or print error\n",
    "if (response.status_code == 200):\n",
    "    outputs = response.json()\n",
    "    print(json.dumps(outputs, indent=4))\n",
    "else:\n",
    "    print(\"Error making request:\", response.status_code, response.content)"
   ]
  },
  {
   "cell_type": "code",
   "execution_count": null,
   "id": "13d2c9ad-f584-4c66-ac40-a004105d4ebb",
   "metadata": {},
   "outputs": [],
   "source": []
  }
 ],
 "metadata": {
  "kernelspec": {
   "display_name": "Python 3.9",
   "language": "python",
   "name": "python3"
  },
  "language_info": {
   "codemirror_mode": {
    "name": "ipython",
    "version": 3
   },
   "file_extension": ".py",
   "mimetype": "text/x-python",
   "name": "python",
   "nbconvert_exporter": "python",
   "pygments_lexer": "ipython3",
   "version": "3.9.16"
  }
 },
 "nbformat": 4,
 "nbformat_minor": 5
}
