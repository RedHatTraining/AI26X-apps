{
 "cells": [
  {
   "cell_type": "code",
   "execution_count": null,
   "metadata": {},
   "outputs": [],
   "source": [
    "!pip -qq install transformers==4.46.3\n",
    "import utils"
   ]
  },
  {
   "cell_type": "code",
   "execution_count": null,
   "metadata": {},
   "outputs": [],
   "source": [
    "diabetes_url = \"https://diabetes-rhoai-multimodel.apps.ocp4.example.com/v2/models/diabetes/infer\"\n",
    "iris_url = \"https://iris-rhoai-multimodel.apps.ocp4.example.com/v2/models/iris/infer\"\n",
    "distilbert_url = \"https://distilbert.rhoai-singlemodel.svc.cluster.local/v1/models/distilbert:predict\""
   ]
  },
  {
   "cell_type": "markdown",
   "metadata": {},
   "source": [
    "1. Validate that the diabetes model, deployed in a multi-model server, responds."
   ]
  },
  {
   "cell_type": "code",
   "execution_count": null,
   "metadata": {},
   "outputs": [],
   "source": [
    "print(\"\\nValidating diabetes model...\\n\")\n",
    "diabetes_request = utils.prepare_diabetes_request()\n",
    "print(f\"Diabetes request:\\n {diabetes_request}\")\n",
    "response = utils.send_inference_request(diabetes_url, diabetes_request)\n",
    "print(\"\\nResponse: \\n\")\n",
    "response.json()"
   ]
  },
  {
   "cell_type": "markdown",
   "metadata": {},
   "source": [
    "2. Validate that the iris model, deployed in a multi-model server, responds."
   ]
  },
  {
   "cell_type": "code",
   "execution_count": null,
   "metadata": {},
   "outputs": [],
   "source": [
    "print(\"\\nValidating iris model...\\n\")\n",
    "iris_request = utils.prepare_iris_request()\n",
    "print(f\"\\nIris request:\\n {iris_request}\")\n",
    "response = utils.send_inference_request(iris_url, iris_request)\n",
    "print(\"\\nResponse: \\n\")\n",
    "response.json()"
   ]
  },
  {
   "cell_type": "markdown",
   "metadata": {},
   "source": [
    "3. Validate that the DistilBERT model performs sentiment analysis.\n",
    "   Note that the distilbert URL uses an internal URL for the OpenShift cluster."
   ]
  },
  {
   "cell_type": "code",
   "execution_count": null,
   "metadata": {},
   "outputs": [],
   "source": [
    "prompt = \"OpenShift AI is great!\"\n",
    "\n",
    "print(f\"\\nPerforming analysis on '{prompt}' ...\\n\")\n",
    "tokens = utils.tokenize(prompt)\n",
    "print(f\"Tokens:\\n {tokens}\")\n",
    "distilbert_request = utils.prepare_distilbert_request(tokens)\n",
    "response = utils.send_inference_request(distilbert_url, distilbert_request)\n",
    "print(\"\\nResponse: \\n\")\n",
    "response.json()\n",
    "\n"
   ]
  }
 ],
 "metadata": {
  "kernelspec": {
   "display_name": ".venv",
   "language": "python",
   "name": "python3"
  },
  "language_info": {
   "codemirror_mode": {
    "name": "ipython",
    "version": 3
   },
   "file_extension": ".py",
   "mimetype": "text/x-python",
   "name": "python",
   "nbconvert_exporter": "python",
   "pygments_lexer": "ipython3",
   "version": "3.9.20"
  }
 },
 "nbformat": 4,
 "nbformat_minor": 4
}
