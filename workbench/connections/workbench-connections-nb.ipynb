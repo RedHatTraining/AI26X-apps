{
 "cells": [
  {
   "cell_type": "markdown",
   "id": "cabab9d9-2949-46e7-808b-7bc70211164e",
   "metadata": {},
   "source": [
    "## Connecting to S3 with Data Connections and Boto3\n",
    "\n",
    "This notebook uses the `boto3` library, which is the AWS SDK for Python.\n",
    "This library is included in some workbench images included with RHOAI, such as `Standard Data Science`.\n",
    "\n",
    "The data connection injects the parameters required to connect to S3 as environment variables."
   ]
  },
  {
   "cell_type": "markdown",
   "id": "1b846e72-76c2-4c80-8707-266682759e04",
   "metadata": {},
   "source": [
    "1. Import the required packages."
   ]
  },
  {
   "cell_type": "code",
   "execution_count": null,
   "id": "f7accda4-b5a8-49d5-a5c2-50edd181ec38",
   "metadata": {
    "tags": []
   },
   "outputs": [],
   "source": [
    "import os\n",
    "import io\n",
    "import boto3"
   ]
  },
  {
   "cell_type": "markdown",
   "id": "a8e2f489-8b9b-4bdd-8b01-bc3701b671d6",
   "metadata": {},
   "source": [
    "2. Retrieve the environment variables injected by the data connection."
   ]
  },
  {
   "cell_type": "code",
   "execution_count": null,
   "id": "81977761-63e9-40b7-ab62-706bc0d400a5",
   "metadata": {
    "tags": []
   },
   "outputs": [],
   "source": [
    "key_id = os.getenv(\"AWS_ACCESS_KEY_ID\")\n",
    "secret_key = os.getenv(\"AWS_SECRET_ACCESS_KEY\")\n",
    "region = os.getenv(\"AWS_DEFAULT_REGION\")\n",
    "endpoint = os.getenv(\"AWS_S3_ENDPOINT\")\n",
    "bucket_name = os.getenv(\"AWS_S3_BUCKET\")"
   ]
  },
  {
   "cell_type": "markdown",
   "id": "9c401286-c52e-42b0-9a51-505f2dd9cd15",
   "metadata": {},
   "source": [
    "3. View a retrieved value.\n",
    "Note that the `key_id` matches the value provided in the form when creating the data connection.\n",
    "\n",
    "> WARNING: Because cell outputs are saved as part of the notebook file, be cautious when printing sensitive information to notebook output.\n",
    "If you leave sensitive credentials printed in an output cell, then you might accidentally leak this information when the notebook is committed to version control."
   ]
  },
  {
   "cell_type": "code",
   "execution_count": null,
   "id": "e7fef18d-eb13-4762-91f5-1369d6af8969",
   "metadata": {
    "tags": []
   },
   "outputs": [],
   "source": "endpoint"
  },
  {
   "cell_type": "markdown",
   "id": "3f328012-128f-4d3d-96ce-28e6405fcc4e",
   "metadata": {},
   "source": [
    "4. Use the values retrieved from the data connection to create a connection to the S3 bucket."
   ]
  },
  {
   "cell_type": "code",
   "execution_count": null,
   "id": "9caecc37-d1c9-49c0-a1c6-b295094f2ef2",
   "metadata": {
    "tags": []
   },
   "outputs": [],
   "source": [
    "s3 = boto3.client(\n",
    "    \"s3\",\n",
    "    region,\n",
    "    aws_access_key_id=key_id,\n",
    "    aws_secret_access_key=secret_key,\n",
    "    endpoint_url=endpoint,\n",
    "    use_ssl=False\n",
    ")"
   ]
  },
  {
   "cell_type": "markdown",
   "id": "d6a05b7c-4110-4132-8a2c-5433b3fb88d3",
   "metadata": {},
   "source": [
    "5. Use the connection to retrieve the list of available buckets."
   ]
  },
  {
   "cell_type": "code",
   "execution_count": null,
   "id": "411296b4-cd8d-4e65-a352-fab9c478e418",
   "metadata": {
    "tags": []
   },
   "outputs": [],
   "source": [
    "response = s3.list_buckets()\n",
    "response[\"Buckets\"]"
   ]
  },
  {
   "cell_type": "markdown",
   "id": "d2223269-a61e-4f91-addd-9af197b5a7f8",
   "metadata": {},
   "source": [
    "6. Upload a file to the bucket via the connection."
   ]
  },
  {
   "cell_type": "code",
   "execution_count": null,
   "id": "b25303ea-cd23-4958-b08a-c5a52beda700",
   "metadata": {},
   "outputs": [],
   "source": [
    "# create a file-like object containing bytes that represent the \"hello world\" string\n",
    "file_obj = io.BytesIO(b\"hello world\")\n",
    "\n",
    "# upload the file-like object to the S3 bucket specified in the data connection\n",
    "# the name of the \"file\" in S3 is \"hello.txt\"\n",
    "s3.upload_fileobj(file_obj, bucket_name, Key=\"hello.txt\")"
   ]
  },
  {
   "cell_type": "markdown",
   "id": "7b407ad7-14b2-4149-9220-a7188fd3a05c",
   "metadata": {},
   "source": [
    "6. List the contents of the bucket specified in the data connection."
   ]
  },
  {
   "cell_type": "code",
   "execution_count": null,
   "id": "1c0a4879-ed47-4132-8abb-7fcd42cb0af7",
   "metadata": {},
   "outputs": [],
   "source": [
    "# retrieve the metadata of contents within the bucket\n",
    "objects = s3.list_objects_v2(Bucket=bucket_name)\n",
    "\n",
    "# output the name of each object within the bucket\n",
    "for obj in objects[\"Contents\"]:\n",
    "    print(obj[\"Key\"])"
   ]
  },
  {
   "cell_type": "markdown",
   "id": "63f252dd-3abe-4dd9-ad09-282047b6d97a",
   "metadata": {},
   "source": [
    "> NOTE: Optionally, verify the corresponding S3 bucket for the new `hello.txt` object."
   ]
  },
  {
   "cell_type": "markdown",
   "id": "b9e8cd99-7644-4d02-849b-c30bd744ffaa",
   "metadata": {},
   "source": [
    "7. Download the file from the S3 bucket to a new location."
   ]
  },
  {
   "cell_type": "code",
   "execution_count": null,
   "id": "0c1ea1b1-dc8e-4027-bc56-75a2ce8084d6",
   "metadata": {},
   "outputs": [],
   "source": [
    "s3.download_file(bucket_name, \"hello.txt\", \"new_hello.txt\")"
   ]
  },
  {
   "cell_type": "markdown",
   "id": "c1c591fb-f880-401c-b52f-e719ae83c753",
   "metadata": {},
   "source": [
    "8. The pane to the left displays a new file called `new_hello.txt`.\n",
    "Open the file and verify that its contents are `hello world`.\n",
    "\n",
    "> NOTE: You might need to refresh the file browser by clicking the `Refresh the file browser` button in the file browser pane.\n",
    "The button displays as a circular arrow."
   ]
  },
  {
   "cell_type": "markdown",
   "id": "31b2aeae-2218-4cd7-b77a-74ae7b540240",
   "metadata": {},
   "source": [
    "Return to the course book to finish the exercise."
   ]
  }
 ],
 "metadata": {
  "kernelspec": {
   "display_name": "Python 3.9",
   "language": "python",
   "name": "python3"
  },
  "language_info": {
   "codemirror_mode": {
    "name": "ipython",
    "version": 3
   },
   "file_extension": ".py",
   "mimetype": "text/x-python",
   "name": "python",
   "nbconvert_exporter": "python",
   "pygments_lexer": "ipython3",
   "version": "3.9.16"
  }
 },
 "nbformat": 4,
 "nbformat_minor": 5
}
