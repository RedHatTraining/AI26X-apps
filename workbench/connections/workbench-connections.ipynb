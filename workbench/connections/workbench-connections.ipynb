{
 "cells": [
  {
   "cell_type": "markdown",
   "id": "9a23ec5a3a38cb88",
   "metadata": {},
   "source": [
    "## Verify the connection environment variables"
   ]
  },
  {
   "cell_type": "markdown",
   "id": "77f321c8dd7e0ce4",
   "metadata": {},
   "source": [
    "1. Verify the S3 connection variables."
   ]
  },
  {
   "cell_type": "code",
   "execution_count": null,
   "id": "662e9bf2a5f940aa",
   "metadata": {},
   "outputs": [],
   "source": [
    "!env | grep \"AWS_\""
   ]
  },
  {
   "cell_type": "markdown",
   "id": "d392c653fb27a890",
   "metadata": {},
   "source": [
    "2. Verify the OCI connection variables."
   ]
  },
  {
   "cell_type": "code",
   "execution_count": null,
   "id": "4b7708fbb9db1ae8",
   "metadata": {},
   "outputs": [],
   "source": [
    "!env | grep \"OCI_HOST=\\|ACCESS_TYPE=\" && env | grep -A7 \"dockerconfigjson=\""
   ]
  },
  {
   "cell_type": "markdown",
   "id": "22f4de0e4318188d",
   "metadata": {},
   "source": [
    "3. Verify the URI connection variable."
   ]
  },
  {
   "cell_type": "code",
   "execution_count": null,
   "id": "4ff98987195d8c55",
   "metadata": {},
   "outputs": [],
   "source": [
    "!env | grep \"^URI=\""
   ]
  },
  {
   "cell_type": "markdown",
   "id": "cabab9d9-2949-46e7-808b-7bc70211164e",
   "metadata": {},
   "source": [
    "## Upload the `dataset.csv` file to S3\n",
    "\n",
    "This notebook uses the `boto3` library, which is the AWS SDK for Python.\n",
    "This library is included in some workbench images included with RHOAI, such as `Standard Data Science`.\n",
    "\n",
    "The data connection injects the parameters required to connect to S3 as environment variables."
   ]
  },
  {
   "cell_type": "markdown",
   "id": "1b846e72-76c2-4c80-8707-266682759e04",
   "metadata": {},
   "source": [
    "1. Import the required packages."
   ]
  },
  {
   "cell_type": "code",
   "execution_count": null,
   "id": "f7accda4-b5a8-49d5-a5c2-50edd181ec38",
   "metadata": {
    "tags": []
   },
   "outputs": [],
   "source": [
    "import os\n",
    "import io\n",
    "import boto3"
   ]
  },
  {
   "cell_type": "markdown",
   "id": "a8e2f489-8b9b-4bdd-8b01-bc3701b671d6",
   "metadata": {},
   "source": [
    "2. Retrieve the environment variables injected by the data connection."
   ]
  },
  {
   "cell_type": "code",
   "execution_count": null,
   "id": "81977761-63e9-40b7-ab62-706bc0d400a5",
   "metadata": {
    "tags": []
   },
   "outputs": [],
   "source": [
    "key_id = os.getenv(\"AWS_ACCESS_KEY_ID\")\n",
    "secret_key = os.getenv(\"AWS_SECRET_ACCESS_KEY\")\n",
    "region = os.getenv(\"AWS_DEFAULT_REGION\")\n",
    "endpoint = os.getenv(\"AWS_S3_ENDPOINT\")\n",
    "bucket_name = os.getenv(\"AWS_S3_BUCKET\")"
   ]
  },
  {
   "cell_type": "markdown",
   "id": "9c401286-c52e-42b0-9a51-505f2dd9cd15",
   "metadata": {},
   "source": [
    "3. View a retrieved value.\n",
    "Note that the `endpoint` matches the value provided in the form when creating the data connection.\n",
    "\n",
    "> WARNING: Because cell outputs are saved as part of the notebook file, be cautious when printing sensitive information to notebook output.\n",
    "If you leave sensitive credentials printed in an output cell, then you might accidentally leak this information when the notebook is committed to version control."
   ]
  },
  {
   "cell_type": "code",
   "execution_count": null,
   "id": "e7fef18d-eb13-4762-91f5-1369d6af8969",
   "metadata": {
    "tags": []
   },
   "outputs": [],
   "source": [
    "endpoint"
   ]
  },
  {
   "cell_type": "markdown",
   "id": "3f328012-128f-4d3d-96ce-28e6405fcc4e",
   "metadata": {},
   "source": [
    "4. Use the values retrieved from the data connection to create a connection to the S3 bucket."
   ]
  },
  {
   "cell_type": "code",
   "execution_count": null,
   "id": "9caecc37-d1c9-49c0-a1c6-b295094f2ef2",
   "metadata": {
    "tags": []
   },
   "outputs": [],
   "source": [
    "s3 = boto3.client(\n",
    "    \"s3\",\n",
    "    region,\n",
    "    aws_access_key_id=key_id,\n",
    "    aws_secret_access_key=secret_key,\n",
    "    endpoint_url=endpoint,\n",
    ")"
   ]
  },
  {
   "cell_type": "markdown",
   "id": "d6a05b7c-4110-4132-8a2c-5433b3fb88d3",
   "metadata": {},
   "source": [
    "5. Use the connection to retrieve the list of available buckets."
   ]
  },
  {
   "cell_type": "code",
   "execution_count": null,
   "id": "411296b4-cd8d-4e65-a352-fab9c478e418",
   "metadata": {
    "tags": []
   },
   "outputs": [],
   "source": [
    "response = s3.list_buckets()\n",
    "response[\"Buckets\"]"
   ]
  },
  {
   "cell_type": "markdown",
   "id": "d2223269-a61e-4f91-addd-9af197b5a7f8",
   "metadata": {},
   "source": [
    "6. Upload a file to the bucket via the connection."
   ]
  },
  {
   "cell_type": "code",
   "execution_count": null,
   "id": "4f74228da1377bd7",
   "metadata": {},
   "outputs": [],
   "source": [
    "# Upload the dataset.csv file\n",
    "s3.upload_file(\"./dataset.csv\", bucket_name, \"dataset.csv\")"
   ]
  },
  {
   "cell_type": "markdown",
   "id": "7b407ad7-14b2-4149-9220-a7188fd3a05c",
   "metadata": {},
   "source": [
    "7. List the contents of the bucket specified in the data connection."
   ]
  },
  {
   "cell_type": "code",
   "execution_count": null,
   "id": "1c0a4879-ed47-4132-8abb-7fcd42cb0af7",
   "metadata": {},
   "outputs": [],
   "source": [
    "# retrieve the metadata of contents within the bucket\n",
    "objects = s3.list_objects_v2(Bucket=bucket_name)\n",
    "\n",
    "# output the name of each object within the bucket\n",
    "for obj in objects[\"Contents\"]:\n",
    "    print(obj[\"Key\"])"
   ]
  },
  {
   "cell_type": "markdown",
   "id": "63f252dd-3abe-4dd9-ad09-282047b6d97a",
   "metadata": {},
   "source": [
    "> NOTE: Optionally, verify the corresponding S3 bucket for the new `dataset.csv` object."
   ]
  },
  {
   "cell_type": "markdown",
   "id": "31b2aeae-2218-4cd7-b77a-74ae7b540240",
   "metadata": {},
   "source": [
    "Return to the course book to finish the exercise."
   ]
  }
 ],
 "metadata": {
  "kernelspec": {
   "display_name": "Python 3.9",
   "language": "python",
   "name": "python3"
  },
  "language_info": {
   "codemirror_mode": {
    "name": "ipython",
    "version": 3
   },
   "file_extension": ".py",
   "mimetype": "text/x-python",
   "name": "python",
   "nbconvert_exporter": "python",
   "pygments_lexer": "ipython3",
   "version": "3.9.16"
  }
 },
 "nbformat": 4,
 "nbformat_minor": 5
}
